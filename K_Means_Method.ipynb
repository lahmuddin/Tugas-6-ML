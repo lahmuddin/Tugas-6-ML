{
  "nbformat": 4,
  "nbformat_minor": 0,
  "metadata": {
    "colab": {
      "name": "K-Means Method.ipynb",
      "provenance": [],
      "collapsed_sections": [
        "CnvyKKEx2Jq9",
        "2v2Hi79g67xX"
      ],
      "authorship_tag": "ABX9TyPd5E5HrK4NYL8UR24dD92Z",
      "include_colab_link": true
    },
    "kernelspec": {
      "name": "python3",
      "display_name": "Python 3"
    },
    "language_info": {
      "name": "python"
    }
  },
  "cells": [
    {
      "cell_type": "markdown",
      "metadata": {
        "id": "view-in-github",
        "colab_type": "text"
      },
      "source": [
        "<a href=\"https://colab.research.google.com/github/lahmuddin/Tugas-6-ML/blob/main/K_Means_Method.ipynb\" target=\"_parent\"><img src=\"https://colab.research.google.com/assets/colab-badge.svg\" alt=\"Open In Colab\"/></a>"
      ]
    },
    {
      "cell_type": "markdown",
      "metadata": {
        "id": "13KMYooZ2VNI"
      },
      "source": [
        "**Lahmuddin_1103184028_TK-42-G8**"
      ]
    },
    {
      "cell_type": "markdown",
      "metadata": {
        "id": "CnvyKKEx2Jq9"
      },
      "source": [
        "## **Lom-level Parallelism**\n",
        "\n",
        "https://scikit-learn.org/stable/auto_examples/cluster/plot_kmeans_assumptions.html#sphx-glr-auto-examples-cluster-plot-kmeans-assumptions-py\n",
        "### Demonstration of K-Means Assumptions\n",
        "This example is meant to illustrate situations where k-means will produce unintuitive and possibly unexpected clusters."
      ]
    },
    {
      "cell_type": "code",
      "metadata": {
        "colab": {
          "base_uri": "https://localhost:8080/",
          "height": 50
        },
        "id": "bTrQvpsK1_X2",
        "outputId": "a499f3a9-960c-4d9a-b5bd-eca292a7df44"
      },
      "source": [
        "# Author: Phil Roth <mr.phil.roth@gmail.com>\n",
        "# License: BSD 3 clause\n",
        "\n",
        "import numpy as np\n",
        "import matplotlib.pyplot as plt\n",
        "from sklearn.cluster import KMeans\n",
        "from sklearn.datasets import make_blobs\n",
        "plt.figure(figsize=(12, 12))"
      ],
      "execution_count": 33,
      "outputs": [
        {
          "output_type": "execute_result",
          "data": {
            "text/plain": [
              "<Figure size 864x864 with 0 Axes>"
            ]
          },
          "metadata": {},
          "execution_count": 33
        },
        {
          "output_type": "display_data",
          "data": {
            "text/plain": [
              "<Figure size 864x864 with 0 Axes>"
            ]
          },
          "metadata": {}
        }
      ]
    },
    {
      "cell_type": "code",
      "metadata": {
        "id": "HNrMFOOp21d7"
      },
      "source": [
        "n_samples = 1500\n",
        "random_state = 170\n",
        "X, y = make_blobs(n_samples=n_samples, random_state=random_state)\n",
        "\n",
        "# Incorrect number of clusters\n",
        "y_pred = KMeans(n_clusters=2, random_state=random_state).fit_predict(X)\n",
        "\n",
        "plt.subplot(321)\n",
        "plt.scatter(X[:, 0], X[:, 1], c=y_pred)\n",
        "plt.title(\"Incorrect Number of Blobs\")\n",
        "\n",
        "# Anisotropicly distributed data\n",
        "transformation = [[0.60834549, -0.63667341], [-0.40887718, 0.85253229]]\n",
        "X_aniso = np.dot(X, transformation)\n",
        "y_pred = KMeans(n_clusters=3, random_state=random_state).fit_predict(X_aniso)\n",
        "\n",
        "plt.subplot(322)\n",
        "plt.scatter(X_aniso[:, 0], X_aniso[:, 1], c=y_pred)\n",
        "plt.title(\"Anisotropicly Distributed Blobs\")\n",
        "\n",
        "# Different variance\n",
        "X_varied, y_varied = make_blobs(\n",
        "    n_samples=n_samples, cluster_std=[1.0, 2.5, 0.5], random_state=random_state\n",
        ")\n",
        "y_pred = KMeans(n_clusters=3, random_state=random_state).fit_predict(X_varied)\n",
        "\n",
        "plt.subplot(325)\n",
        "plt.scatter(X_varied[:, 0], X_varied[:, 1], c=y_pred)\n",
        "plt.title(\"Unequal Variance\")\n",
        "\n",
        "# Unevenly sized blobs\n",
        "X_filtered = np.vstack((X[y == 0][:500], X[y == 1][:100], X[y == 2][:10]))\n",
        "y_pred = KMeans(n_clusters=3, random_state=random_state).fit_predict(X_filtered)\n",
        "\n",
        "plt.subplot(326)\n",
        "plt.scatter(X_filtered[:, 0], X_filtered[:, 1], c=y_pred)\n",
        "plt.title(\"Unevenly Sized Blobs\")\n",
        "\n",
        "plt.show()"
      ],
      "execution_count": null,
      "outputs": []
    },
    {
      "cell_type": "markdown",
      "metadata": {
        "id": "2v2Hi79g67xX"
      },
      "source": [
        "# **Mini Batch K-Means**\n",
        "https://scikit-learn.org/stable/auto_examples/cluster/plot_dict_face_patches.html#sphx-glr-auto-examples-cluster-plot-dict-face-patches-py\n",
        "\n",
        "###Online learning of a dictionary of parts of faces\n",
        "\n",
        "This example uses a large dataset of faces to learn a set of 20 x 20 images patches that constitute faces. From the programming standpoint, it is interesting because it shows how to use the online API of the scikit-learn to process a very large dataset by chunks. The verbose setting on the MiniBatchKMeans enables us to see that some clusters are reassigned during the successive calls to partial-fit."
      ]
    },
    {
      "cell_type": "code",
      "metadata": {
        "id": "sJL53Rl1-CWq"
      },
      "source": [
        "import time\n",
        "import matplotlib.pyplot as plt\n",
        "import numpy as np\n",
        "from sklearn import datasets\n",
        "from sklearn.cluster import MiniBatchKMeans\n",
        "from sklearn.feature_extraction.image import extract_patches_2d\n",
        "\n",
        "faces = datasets.fetch_olivetti_faces()"
      ],
      "execution_count": 30,
      "outputs": []
    },
    {
      "cell_type": "code",
      "metadata": {
        "colab": {
          "base_uri": "https://localhost:8080/"
        },
        "id": "QmC7dsNX-FtG",
        "outputId": "16461abe-e6ce-4959-8cf1-9e9b679473bb"
      },
      "source": [
        "# Learn the dictionary of images\n",
        "\n",
        "print(\"Learning the dictionary... \")\n",
        "rng = np.random.RandomState(0)\n",
        "kmeans = MiniBatchKMeans(n_clusters=81, random_state=rng, verbose=True)\n",
        "patch_size = (20, 20)\n",
        "\n",
        "buffer = []\n",
        "t0 = time.time()"
      ],
      "execution_count": 31,
      "outputs": [
        {
          "output_type": "stream",
          "name": "stdout",
          "text": [
            "Learning the dictionary... \n"
          ]
        }
      ]
    },
    {
      "cell_type": "code",
      "metadata": {
        "colab": {
          "base_uri": "https://localhost:8080/"
        },
        "id": "B1tAPBfY-Qf-",
        "outputId": "6f598920-451d-4279-b9df-03ed7eaa1343"
      },
      "source": [
        "# The online learning part: cycle over the whole dataset 6 times\n",
        "index = 0\n",
        "for _ in range(6):\n",
        "    for img in faces.images:\n",
        "        data = extract_patches_2d(img, patch_size, max_patches=50, random_state=rng)\n",
        "        data = np.reshape(data, (len(data), -1))\n",
        "        buffer.append(data)\n",
        "        index += 1\n",
        "        if index % 10 == 0:\n",
        "            data = np.concatenate(buffer, axis=0)\n",
        "            data -= np.mean(data, axis=0)\n",
        "            data /= np.std(data, axis=0)\n",
        "            kmeans.partial_fit(data)\n",
        "            buffer = []\n",
        "        if index % 100 == 0:\n",
        "            print(\"Partial fit of %4i out of %i\" % (index, 6 * len(faces.images)))\n",
        "\n",
        "dt = time.time() - t0\n",
        "print(\"done in %.2fs.\" % dt)"
      ],
      "execution_count": 32,
      "outputs": [
        {
          "output_type": "stream",
          "name": "stdout",
          "text": [
            "Partial fit of  100 out of 2400\n",
            "Partial fit of  200 out of 2400\n",
            "[MiniBatchKMeans] Reassigning 16 cluster centers.\n",
            "Partial fit of  300 out of 2400\n",
            "Partial fit of  400 out of 2400\n",
            "Partial fit of  500 out of 2400\n",
            "Partial fit of  600 out of 2400\n",
            "Partial fit of  700 out of 2400\n",
            "Partial fit of  800 out of 2400\n",
            "Partial fit of  900 out of 2400\n",
            "Partial fit of 1000 out of 2400\n",
            "Partial fit of 1100 out of 2400\n",
            "Partial fit of 1200 out of 2400\n",
            "Partial fit of 1300 out of 2400\n",
            "Partial fit of 1400 out of 2400\n",
            "Partial fit of 1500 out of 2400\n",
            "Partial fit of 1600 out of 2400\n",
            "Partial fit of 1700 out of 2400\n",
            "Partial fit of 1800 out of 2400\n",
            "Partial fit of 1900 out of 2400\n",
            "Partial fit of 2000 out of 2400\n",
            "Partial fit of 2100 out of 2400\n",
            "Partial fit of 2200 out of 2400\n",
            "Partial fit of 2300 out of 2400\n",
            "Partial fit of 2400 out of 2400\n",
            "done in 6.60s.\n"
          ]
        }
      ]
    },
    {
      "cell_type": "code",
      "metadata": {
        "id": "EPAXnbwx-Rie"
      },
      "source": [
        "# Plot the results\n",
        "plt.figure(figsize=(4.2, 4))\n",
        "for i, patch in enumerate(kmeans.cluster_centers_):\n",
        "    plt.subplot(9, 9, i + 1)\n",
        "    plt.imshow(patch.reshape(patch_size), cmap=plt.cm.gray, interpolation=\"nearest\")\n",
        "    plt.xticks(())\n",
        "    plt.yticks(())\n",
        "\n",
        "\n",
        "plt.suptitle(\n",
        "    \"Patches of faces\\nTrain time %.1fs on %d patches\" % (dt, 8 * len(faces.images)),\n",
        "    fontsize=16,\n",
        ")\n",
        "plt.subplots_adjust(0.08, 0.02, 0.92, 0.85, 0.08, 0.23)\n",
        "\n",
        "plt.show()"
      ],
      "execution_count": null,
      "outputs": []
    }
  ]
}